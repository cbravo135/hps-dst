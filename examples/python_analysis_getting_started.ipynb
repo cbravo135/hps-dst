{
 "cells": [
  {
   "cell_type": "markdown",
   "metadata": {},
   "source": [
    "# Getting Started with Analysis Using the DST's and Python"
   ]
  },
  {
   "cell_type": "markdown",
   "metadata": {},
   "source": [
    "This tutorial will walk a user through a basic python analysis using the Heavy Photon Search Data Summary Tape (HPS DST).  The tutorial will require building the `hps-dst` package.  Instructions on how to do so can be found by following the README.\n",
    "\n",
    "Before beginning, the shared library HpsEvent must be loaded into ROOT.  If the `hps-dst` package was build successfully following the instructions above, it should be located in the `build/lib` directory.  In this example, it is assumed that the location of the `hps-dst` package is pointed to by the environmental variable `HPS_DST_PATH`.  If that's the case, the library can be loaded as follows: "
   ]
  },
  {
   "cell_type": "code",
   "execution_count": 2,
   "metadata": {
    "collapsed": false
   },
   "outputs": [
    {
     "data": {
      "text/plain": [
       "0"
      ]
     },
     "execution_count": 2,
     "metadata": {},
     "output_type": "execute_result"
    }
   ],
   "source": [
    "# Module used to retrieve environmental variable\n",
    "import os\n",
    "\n",
    "# Module used to exit\n",
    "import sys\n",
    "\n",
    "if os.getenv('HPS_DST_PATH') is None:\n",
    "    print \"[ HPS Analysis ]: Error! Environmental variable HPS_DST_HOME is not set\\n\"\n",
    "    print \"[ HPS Analysis ]: Exiting ...\"\n",
    "    sys.exit(2)\n",
    "    \n",
    "hps_dst_path = os.environ['HPS_DST_PATH']\n",
    "hps_dst_path += \"/build/lib/libHpsEvent.so\"\n",
    "\n",
    "# Load the library in ROOT\n",
    "import ROOT\n",
    "ROOT.gSystem.Load(hps_dst_path)"
   ]
  },
  {
   "cell_type": "code",
   "execution_count": null,
   "metadata": {
    "collapsed": true
   },
   "outputs": [],
   "source": []
  }
 ],
 "metadata": {
  "kernelspec": {
   "display_name": "Python 2",
   "language": "python",
   "name": "python2"
  },
  "language_info": {
   "codemirror_mode": {
    "name": "ipython",
    "version": 2
   },
   "file_extension": ".py",
   "mimetype": "text/x-python",
   "name": "python",
   "nbconvert_exporter": "python",
   "pygments_lexer": "ipython2",
   "version": "2.7.10"
  }
 },
 "nbformat": 4,
 "nbformat_minor": 0
}
